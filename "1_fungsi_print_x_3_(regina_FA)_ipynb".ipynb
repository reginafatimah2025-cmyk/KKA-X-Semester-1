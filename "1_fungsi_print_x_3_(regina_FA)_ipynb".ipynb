{
  "nbformat": 4,
  "nbformat_minor": 0,
  "metadata": {
    "colab": {
      "provenance": [],
      "authorship_tag": "ABX9TyPNC8DWiWaeDKYP7a56sVdb",
      "include_colab_link": true
    },
    "kernelspec": {
      "name": "python3",
      "display_name": "Python 3"
    },
    "language_info": {
      "name": "python"
    }
  },
  "cells": [
    {
      "cell_type": "markdown",
      "metadata": {
        "id": "view-in-github",
        "colab_type": "text"
      },
      "source": [
        "<a href=\"https://colab.research.google.com/github/reginafatimah2025-cmyk/KKA-X-Semester-1/blob/main/%221_fungsi_print_x_3_(regina_FA)_ipynb%22.ipynb\" target=\"_parent\"><img src=\"https://colab.research.google.com/assets/colab-badge.svg\" alt=\"Open In Colab\"/></a>"
      ]
    },
    {
      "cell_type": "code",
      "execution_count": null,
      "metadata": {
        "colab": {
          "base_uri": "https://localhost:8080/"
        },
        "id": "ZPniV8FKiM54",
        "outputId": "283d5239-823e-4160-e567-4401621eb6f2"
      },
      "outputs": [
        {
          "output_type": "stream",
          "name": "stdout",
          "text": [
            "regina fatimah az-zahra\n"
          ]
        }
      ],
      "source": [
        "print(\"regina fatimah az-zahra\")"
      ]
    },
    {
      "cell_type": "markdown",
      "source": [
        "nama:regina fatimah az-zahra\n",
        "\n",
        "kelas:x.3\n",
        "\n",
        "absen:25"
      ],
      "metadata": {
        "id": "j8FDlXXijP-P"
      }
    },
    {
      "cell_type": "markdown",
      "source": [
        "#Menampilkan Nilai Variabel"
      ],
      "metadata": {
        "id": "EeccReX-leoS"
      }
    },
    {
      "cell_type": "code",
      "source": [
        "Nama = \"regina fatimah az-zahra\"\n",
        "usia = 16"
      ],
      "metadata": {
        "id": "-1ByaSHQlqoA"
      },
      "execution_count": null,
      "outputs": []
    },
    {
      "cell_type": "code",
      "source": [
        "print(Nama)"
      ],
      "metadata": {
        "colab": {
          "base_uri": "https://localhost:8080/"
        },
        "id": "8ccnkb4umHHW",
        "outputId": "deaa3c31-9b38-4046-8c29-9c914f44f8c0"
      },
      "execution_count": null,
      "outputs": [
        {
          "output_type": "stream",
          "name": "stdout",
          "text": [
            "regina fatimah az-zahra\n"
          ]
        }
      ]
    },
    {
      "cell_type": "code",
      "source": [
        "print(usia)"
      ],
      "metadata": {
        "colab": {
          "base_uri": "https://localhost:8080/"
        },
        "id": "BjgdiRGGm5bY",
        "outputId": "3fa21eb1-17b9-42d2-95f7-34bbafe0e8a0"
      },
      "execution_count": null,
      "outputs": [
        {
          "output_type": "stream",
          "name": "stdout",
          "text": [
            "16\n"
          ]
        }
      ]
    },
    {
      "cell_type": "code",
      "source": [
        "print(\"Nama\")"
      ],
      "metadata": {
        "colab": {
          "base_uri": "https://localhost:8080/"
        },
        "id": "EAR1wxd8nNHA",
        "outputId": "95fb8f4e-055a-440a-ce1d-014ad18f698e"
      },
      "execution_count": null,
      "outputs": [
        {
          "output_type": "stream",
          "name": "stdout",
          "text": [
            "Nama\n"
          ]
        }
      ]
    },
    {
      "cell_type": "code",
      "source": [
        "print(\"usia\")"
      ],
      "metadata": {
        "colab": {
          "base_uri": "https://localhost:8080/"
        },
        "id": "hCT4lDUNnh8F",
        "outputId": "3f21c77c-976e-4627-a8eb-49b1b08ed367"
      },
      "execution_count": null,
      "outputs": [
        {
          "output_type": "stream",
          "name": "stdout",
          "text": [
            "usia\n"
          ]
        }
      ]
    },
    {
      "cell_type": "markdown",
      "source": [
        "Latihan:\n",
        "\n",
        "Buat variabel berat_badan, lau tampilkan nilai variabel tersebut\n",
        "\n",
        "Buat variabel nama_saudara, lalu tampilkan nilai variabel tersebut"
      ],
      "metadata": {
        "id": "VJWv1Px_oCIP"
      }
    },
    {
      "cell_type": "code",
      "source": [
        "Nama = \"muhammad arva al-ghazali\n",
        "berat badan = 50"
      ],
      "metadata": {
        "id": "TwmxyWMeon_W"
      },
      "execution_count": null,
      "outputs": []
    },
    {
      "cell_type": "code",
      "source": [
        "nama_saudara=\"arva\""
      ],
      "metadata": {
        "id": "w8RDmhwXqCbX"
      },
      "execution_count": null,
      "outputs": []
    },
    {
      "cell_type": "code",
      "source": [],
      "metadata": {
        "id": "UMAj4VeEqjrB"
      },
      "execution_count": null,
      "outputs": []
    },
    {
      "cell_type": "markdown",
      "source": [
        "#Menampilkan Nilai Variabel dan Teks Bebas"
      ],
      "metadata": {
        "id": "Go1iXGECs0JW"
      }
    },
    {
      "cell_type": "code",
      "source": [
        "print(\"halo nama saya \",Nama,\". Usia say \",usia,\".\")"
      ],
      "metadata": {
        "colab": {
          "base_uri": "https://localhost:8080/"
        },
        "id": "dWBytGt3AiLD",
        "outputId": "cd9ac244-c165-4064-eb0a-2a0443cb1541"
      },
      "execution_count": null,
      "outputs": [
        {
          "output_type": "stream",
          "name": "stdout",
          "text": [
            "halo nama saya  regina fatimah az-zahra . Usia say  16 .\n"
          ]
        }
      ]
    },
    {
      "cell_type": "code",
      "source": [
        "print(\"halo nama saya \"+Nama+\".Usia saya \"+str(usia)+\" tahun.\")"
      ],
      "metadata": {
        "colab": {
          "base_uri": "https://localhost:8080/"
        },
        "id": "xekL0jVgBW1t",
        "outputId": "dade54a6-eaf1-47bb-deb4-bb9b9515638f"
      },
      "execution_count": null,
      "outputs": [
        {
          "output_type": "stream",
          "name": "stdout",
          "text": [
            "halo nama saya regina fatimah az-zahra.Usia saya 16 tahun.\n"
          ]
        }
      ]
    },
    {
      "cell_type": "code",
      "source": [
        "print(f\"halo nama saya {Nama}. Usia saya {usia} tahun.\")"
      ],
      "metadata": {
        "colab": {
          "base_uri": "https://localhost:8080/"
        },
        "id": "6FMLoKmSDswD",
        "outputId": "04685950-b6e6-4053-fdc2-28a236ccdd18"
      },
      "execution_count": null,
      "outputs": [
        {
          "output_type": "stream",
          "name": "stdout",
          "text": [
            "halo nama saya regina fatimah az-zahra. Usia saya 16 tahun.\n"
          ]
        }
      ]
    },
    {
      "cell_type": "markdown",
      "source": [
        "latihan soal;\n",
        "\n",
        "Gunakan ketiga metode untuk menampilkan teks bebas dan nilai variabel untuk kalimat berikut:\n",
        "\n",
        "nama saudara saya adalah...berat badannya adalah...\n"
      ],
      "metadata": {
        "id": "4J4Qb2MPD7wy"
      }
    },
    {
      "cell_type": "markdown",
      "source": [
        "#Escape Character"
      ],
      "metadata": {
        "id": "CeUu-v9nub4w"
      }
    },
    {
      "cell_type": "code",
      "source": [
        "print(\"nama:Regina FA\n",
        "Kelas:X.3\n",
        "No. absen:24\")"
      ],
      "metadata": {
        "colab": {
          "base_uri": "https://localhost:8080/",
          "height": 145
        },
        "id": "bsX3Do-kulQs",
        "outputId": "14bf9370-0c38-41fc-d6dd-5d52af362af0"
      },
      "execution_count": null,
      "outputs": [
        {
          "output_type": "error",
          "ename": "SyntaxError",
          "evalue": "unterminated string literal (detected at line 1) (ipython-input-1155746073.py, line 1)",
          "traceback": [
            "\u001b[0;36m  File \u001b[0;32m\"/tmp/ipython-input-1155746073.py\"\u001b[0;36m, line \u001b[0;32m1\u001b[0m\n\u001b[0;31m    print(\"nama:Regina FA\u001b[0m\n\u001b[0m          ^\u001b[0m\n\u001b[0;31mSyntaxError\u001b[0m\u001b[0;31m:\u001b[0m unterminated string literal (detected at line 1)\n"
          ]
        }
      ]
    },
    {
      "cell_type": "code",
      "source": [
        "print(\"Nama:Regina FA\")\n",
        "print(\"Kelas: X.3\")\n",
        "print(\"No. absen: 24\")"
      ],
      "metadata": {
        "colab": {
          "base_uri": "https://localhost:8080/"
        },
        "id": "0RFalXhFvDNE",
        "outputId": "6ed67b91-bd2d-4a2b-8a68-ce4ecc200f88"
      },
      "execution_count": null,
      "outputs": [
        {
          "output_type": "stream",
          "name": "stdout",
          "text": [
            "Nama:Regina FA\n",
            "Kelas: X.3\n",
            "No. absen: 24\n"
          ]
        }
      ]
    },
    {
      "cell_type": "code",
      "source": [
        "print(\"Nama:Regina FA\\nKelas: X.3\\nNo. absen: 24\")"
      ],
      "metadata": {
        "colab": {
          "base_uri": "https://localhost:8080/"
        },
        "id": "Py2JSBXjvHPt",
        "outputId": "2f3ef665-d30e-4b98-bc31-2ccc6cefab92"
      },
      "execution_count": null,
      "outputs": [
        {
          "output_type": "stream",
          "name": "stdout",
          "text": [
            "Nama:Regina FA\n",
            "Kelas: X.3\n",
            "No. absen: 24\n"
          ]
        }
      ]
    },
    {
      "cell_type": "code",
      "source": [
        "print(\"\"\"Nama\\t\\t: Regina FA\n",
        "Kelas\\t\\t: X.3\n",
        "No. absen\\t: 24\"\"\")"
      ],
      "metadata": {
        "colab": {
          "base_uri": "https://localhost:8080/"
        },
        "id": "Qk91Btk6vHoP",
        "outputId": "5c811a22-1e39-4393-d9f7-f52649bd42ee"
      },
      "execution_count": null,
      "outputs": [
        {
          "output_type": "stream",
          "name": "stdout",
          "text": [
            "Nama\t\t: Regina FA\n",
            "Kelas\t\t: X.3\n",
            "No. absen\t: 24\n"
          ]
        }
      ]
    },
    {
      "cell_type": "code",
      "source": [
        "print(\"Nama: Habibie Ainun\")"
      ],
      "metadata": {
        "colab": {
          "base_uri": "https://localhost:8080/"
        },
        "id": "4WfIKUW4vFeI",
        "outputId": "5cdc2af7-3706-4fac-e93e-3250b7f59744"
      },
      "execution_count": null,
      "outputs": [
        {
          "output_type": "stream",
          "name": "stdout",
          "text": [
            "Nama: Habibie Ainun\n"
          ]
        }
      ]
    },
    {
      "cell_type": "code",
      "source": [
        "print('Nama:Habibie Ainun')"
      ],
      "metadata": {
        "colab": {
          "base_uri": "https://localhost:8080/"
        },
        "id": "5w-xszCUvD8y",
        "outputId": "c5970170-fd4c-4502-e19c-42216a85dc7d"
      },
      "execution_count": null,
      "outputs": [
        {
          "output_type": "stream",
          "name": "stdout",
          "text": [
            "Nama:Habibie Ainun\n"
          ]
        }
      ]
    },
    {
      "cell_type": "code",
      "source": [
        "print('Nama: Habibie A\\'inun')"
      ],
      "metadata": {
        "colab": {
          "base_uri": "https://localhost:8080/"
        },
        "id": "xysbaLBNxCWT",
        "outputId": "74642029-644b-4a07-a798-d16f791615cb"
      },
      "execution_count": null,
      "outputs": [
        {
          "output_type": "stream",
          "name": "stdout",
          "text": [
            "Nama: Habibie A'inun\n"
          ]
        }
      ]
    },
    {
      "cell_type": "code",
      "source": [
        "print(\"Nama: Habibie A'inun\")"
      ],
      "metadata": {
        "colab": {
          "base_uri": "https://localhost:8080/"
        },
        "id": "nlluhjsPxGdy",
        "outputId": "d4d5584a-02c5-4d34-c018-bc4747c56845"
      },
      "execution_count": null,
      "outputs": [
        {
          "output_type": "stream",
          "name": "stdout",
          "text": [
            "Nama: Habibie A'inun\n"
          ]
        }
      ]
    },
    {
      "cell_type": "code",
      "source": [
        "print(\"Bu Shinta berkata, \\\"silahkan lihat ke layar TV.\\\".\")"
      ],
      "metadata": {
        "colab": {
          "base_uri": "https://localhost:8080/"
        },
        "id": "x2_Fj-5wxYaJ",
        "outputId": "e933f728-e4a5-4195-c65c-8d37428d6f32"
      },
      "execution_count": null,
      "outputs": [
        {
          "output_type": "stream",
          "name": "stdout",
          "text": [
            "Bu Shinta berkata, \"silahkan lihat ke layar TV.\".\n"
          ]
        }
      ]
    },
    {
      "cell_type": "code",
      "source": [
        "print('Bu Shinta berkata, \"Silahkan lihat ke layr TV.\".')"
      ],
      "metadata": {
        "colab": {
          "base_uri": "https://localhost:8080/"
        },
        "id": "9ZK4qnCfxZQH",
        "outputId": "5edf501d-044f-408e-8d91-0fc923dd3d29"
      },
      "execution_count": null,
      "outputs": [
        {
          "output_type": "stream",
          "name": "stdout",
          "text": [
            "Bu Shinta berkata, \"Silahkan lihat ke layr TV.\".\n"
          ]
        }
      ]
    },
    {
      "cell_type": "code",
      "source": [
        "print(\"\"\"Nama file: Tugas KKA\n",
        "Lokasi file: D:\\\\MAN Demak\\\\KKA\"\"\")"
      ],
      "metadata": {
        "colab": {
          "base_uri": "https://localhost:8080/"
        },
        "id": "f2glkojiyC0y",
        "outputId": "caf7c929-60ab-4263-82b1-b7e03eccadfd"
      },
      "execution_count": null,
      "outputs": [
        {
          "output_type": "stream",
          "name": "stdout",
          "text": [
            "Nama file: Tugas KKA\n",
            "Lokasi file: D:\\MAN Demak\\KKA\n"
          ]
        }
      ]
    },
    {
      "cell_type": "code",
      "source": [
        "print('Nama file\\t: Ulangan Harian Ma\\'rifatullah\\nLokasi file\\t: D:\\\\Mata kuliah\\\\Ma\\'rifatullah')"
      ],
      "metadata": {
        "colab": {
          "base_uri": "https://localhost:8080/"
        },
        "id": "hUX_sed-zaQi",
        "outputId": "9ecb0f02-ab26-4c8a-e8e1-42ab069c7cdc"
      },
      "execution_count": null,
      "outputs": [
        {
          "output_type": "stream",
          "name": "stdout",
          "text": [
            "Nama file\t: Ulangan Harian Ma'rifatullah\n",
            "Lokasi file\t: D:\\Mata kuliah\\Ma'rifatullah\n"
          ]
        }
      ]
    }
  ]
}